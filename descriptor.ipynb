{
 "cells": [
  {
   "cell_type": "code",
   "execution_count": null,
   "id": "f4ca3cb7",
   "metadata": {},
   "outputs": [],
   "source": [
    "def featsmi(fp_type, smis, size=1024, depth=6):\n",
    "    fg = {\n",
    "            \"AP2D\" : cdk.fingerprint.AtomPairs2DFingerprinter(),\n",
    "            \"CKD\":cdk.fingerprint.Fingerprinter(size, depth),\n",
    "            \"CKDExt\":cdk.fingerprint.ExtendedFingerprinter(size, depth),\n",
    "            \"CKDGraph\":cdk.fingerprint.GraphOnlyFingerprinter(size, depth),\n",
    "            \"MACCS\":cdk.fingerprint.MACCSFingerprinter(),\n",
    "            \"PubChem\":cdk.fingerprint.PubchemFingerprinter(cdk.silent.SilentChemObjectBuilder.getInstance()),\n",
    "            \"Estate\":cdk.fingerprint.EStateFingerprinter(),\n",
    "            \"KR\":cdk.fingerprint.KlekotaRothFingerprinter(),\n",
    "            \"FP4\" : cdk.fingerprint.SubstructureFingerprinter(),\n",
    "            \"FP4C\" : cdk.fingerprint.SubstructureFingerprinter(),\n",
    "            \"Circle\" : cdk.fingerprint.CircularFingerprinter(),\n",
    "            \"Hybrid\" : cdk.fingerprint.HybridizationFingerprinter(),\n",
    "         }\n",
    "    sp = cdk.smiles.SmilesParser(cdk.DefaultChemObjectBuilder.getInstance())\n",
    "    for i,smi in enumerate(smis):\n",
    "        mol = sp.parseSmiles(smi)\n",
    "        if fp_type == \"FP4C\":\n",
    "            fingerprinter = fg[fp_type]\n",
    "            nbit = fingerprinter.getSize()\n",
    "            fp = fingerprinter.getCountFingerprint(mol)\n",
    "            feat = np.array([int(fp.getCount(i)) for i in range(nbit)])           \n",
    "        else:\n",
    "            fingerprinter = fg[fp_type]\n",
    "            nbit = fingerprinter.getSize()\n",
    "            fp = fingerprinter.getFingerprint(mol)\n",
    "            feat = np.array([int(fp.get(i)) for i in range(nbit)])\n",
    "        if i == 0:\n",
    "            featx = feat.reshape(1,-1)\n",
    "        else:\n",
    "            featx = np.vstack((featx, feat.reshape(1,-1)))\n",
    "    return featx"
   ]
  }
 ],
 "metadata": {
  "language_info": {
   "name": "python"
  }
 },
 "nbformat": 4,
 "nbformat_minor": 5
}
